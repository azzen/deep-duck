{
 "cells": [
  {
   "cell_type": "code",
   "execution_count": 1,
   "metadata": {},
   "outputs": [
    {
     "ename": "NotADirectoryError",
     "evalue": "[Errno 20] Not a directory: '../training_dataset/.keep'",
     "output_type": "error",
     "traceback": [
      "\u001b[0;31m---------------------------------------------------------------------------\u001b[0m",
      "\u001b[0;31mNotADirectoryError\u001b[0m                        Traceback (most recent call last)",
      "Cell \u001b[0;32mIn[1], line 14\u001b[0m\n\u001b[1;32m     11\u001b[0m         \u001b[39mcontinue\u001b[39;00m\n\u001b[1;32m     13\u001b[0m     label_path_path \u001b[39m=\u001b[39m os\u001b[39m.\u001b[39mpath\u001b[39m.\u001b[39mjoin(OUTPUT_DIR, label_dir)\n\u001b[0;32m---> 14\u001b[0m     \u001b[39mfor\u001b[39;00m file \u001b[39min\u001b[39;00m os\u001b[39m.\u001b[39mlistdir(label_path_path):\n\u001b[1;32m     15\u001b[0m         data\u001b[39m.\u001b[39mappend([os\u001b[39m.\u001b[39mpath\u001b[39m.\u001b[39mjoin(label_path_path, file), label_dir])\n\u001b[1;32m     17\u001b[0m dataframe \u001b[39m=\u001b[39m pd\u001b[39m.\u001b[39mDataFrame(data, columns \u001b[39m=\u001b[39m [\u001b[39m\"\u001b[39m\u001b[39mpath\u001b[39m\u001b[39m\"\u001b[39m, \u001b[39m\"\u001b[39m\u001b[39mlabel\u001b[39m\u001b[39m\"\u001b[39m])\n",
      "\u001b[0;31mNotADirectoryError\u001b[0m: [Errno 20] Not a directory: '../training_dataset/.keep'"
     ]
    }
   ],
   "source": [
    "import os\n",
    "import pandas as pd\n",
    "from glob import glob\n",
    "\n",
    "OUTPUT_DIR = \"../training_dataset/\"\n",
    "\n",
    "data = []\n",
    "\n",
    "for label_dir in os.listdir(OUTPUT_DIR):\n",
    "    if os.path.isfile(label_dir):\n",
    "        continue\n",
    "    \n",
    "    label_path_path = os.path.join(OUTPUT_DIR, label_dir)\n",
    "    for file in os.listdir(label_path_path):\n",
    "        data.append([os.path.join(label_path_path, file), label_dir])\n",
    "        \n",
    "dataframe = pd.DataFrame(data, columns = [\"path\", \"label\"])\n",
    "dataframe\n"
   ]
  },
  {
   "cell_type": "code",
   "execution_count": null,
   "metadata": {},
   "outputs": [],
   "source": [
    "import matplotlib.pyplot as plt\n",
    "import PIL\n",
    "import PIL.Image\n",
    " \n",
    "plt.figure(figsize=(20, 20))\n",
    "\n",
    "i = 0\n",
    "for _, rowdata in dataframe.sample(frac=1).head(9).iterrows():\n",
    "    ax = plt.subplot(3, 3, i + 1)\n",
    "    plt.imshow(PIL.Image.open(rowdata.path))\n",
    "    plt.title(rowdata.label)\n",
    "    plt.axis(\"off\")\n",
    "    i += 1"
   ]
  }
 ],
 "metadata": {
  "kernelspec": {
   "display_name": "Python 3",
   "language": "python",
   "name": "python3"
  },
  "language_info": {
   "codemirror_mode": {
    "name": "ipython",
    "version": 3
   },
   "file_extension": ".py",
   "mimetype": "text/x-python",
   "name": "python",
   "nbconvert_exporter": "python",
   "pygments_lexer": "ipython3",
   "version": "3.11.3"
  },
  "orig_nbformat": 4
 },
 "nbformat": 4,
 "nbformat_minor": 2
}
